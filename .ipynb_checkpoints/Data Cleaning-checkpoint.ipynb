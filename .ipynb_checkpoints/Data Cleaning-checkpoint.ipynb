{
 "cells": [
  {
   "cell_type": "code",
   "execution_count": 1,
   "id": "4d275a3c",
   "metadata": {},
   "outputs": [
    {
     "data": {
      "text/html": [
       "<div>\n",
       "<style scoped>\n",
       "    .dataframe tbody tr th:only-of-type {\n",
       "        vertical-align: middle;\n",
       "    }\n",
       "\n",
       "    .dataframe tbody tr th {\n",
       "        vertical-align: top;\n",
       "    }\n",
       "\n",
       "    .dataframe thead th {\n",
       "        text-align: right;\n",
       "    }\n",
       "</style>\n",
       "<table border=\"1\" class=\"dataframe\">\n",
       "  <thead>\n",
       "    <tr style=\"text-align: right;\">\n",
       "      <th></th>\n",
       "      <th>car_brand</th>\n",
       "      <th>car_model</th>\n",
       "      <th>mileage_km</th>\n",
       "      <th>engine_size_cc</th>\n",
       "      <th>transmission</th>\n",
       "      <th>fuel_type</th>\n",
       "      <th>steering_type</th>\n",
       "      <th>drive_train</th>\n",
       "      <th>no_of_seats</th>\n",
       "      <th>no_of_doors</th>\n",
       "      <th>...</th>\n",
       "      <th>Air Conditioner</th>\n",
       "      <th>Navigation</th>\n",
       "      <th>Air Bag</th>\n",
       "      <th>Anti-Lock Brake System</th>\n",
       "      <th>Fog Lights</th>\n",
       "      <th>Power Windows</th>\n",
       "      <th>Alloy Wheels</th>\n",
       "      <th>year</th>\n",
       "      <th>price(Ksh)</th>\n",
       "      <th>redundant_price_column</th>\n",
       "    </tr>\n",
       "  </thead>\n",
       "  <tbody>\n",
       "    <tr>\n",
       "      <th>0</th>\n",
       "      <td>ObscureBrandB</td>\n",
       "      <td>TT COUPE</td>\n",
       "      <td>56000.0</td>\n",
       "      <td>2000.0</td>\n",
       "      <td>Automatic Transmission</td>\n",
       "      <td>petrol</td>\n",
       "      <td>RHD</td>\n",
       "      <td>4WD</td>\n",
       "      <td>4 Seats</td>\n",
       "      <td>3 Doors</td>\n",
       "      <td>...</td>\n",
       "      <td>1</td>\n",
       "      <td>0</td>\n",
       "      <td>1</td>\n",
       "      <td>0</td>\n",
       "      <td>0</td>\n",
       "      <td>1</td>\n",
       "      <td>1</td>\n",
       "      <td>2015.0</td>\n",
       "      <td>3407249.0</td>\n",
       "      <td>3407249.0</td>\n",
       "    </tr>\n",
       "    <tr>\n",
       "      <th>1</th>\n",
       "      <td>ObscureBrandA</td>\n",
       "      <td>GOLF</td>\n",
       "      <td>48000.0</td>\n",
       "      <td>1200.0</td>\n",
       "      <td>Automatic Transmission</td>\n",
       "      <td>PETROL</td>\n",
       "      <td>RHD</td>\n",
       "      <td>Other</td>\n",
       "      <td>5 Seats</td>\n",
       "      <td>5 Doors</td>\n",
       "      <td>...</td>\n",
       "      <td>1</td>\n",
       "      <td>0</td>\n",
       "      <td>1</td>\n",
       "      <td>0</td>\n",
       "      <td>0</td>\n",
       "      <td>1</td>\n",
       "      <td>1</td>\n",
       "      <td>2018.0</td>\n",
       "      <td>2390153.0</td>\n",
       "      <td>2390153.0</td>\n",
       "    </tr>\n",
       "    <tr>\n",
       "      <th>2</th>\n",
       "      <td>KIA</td>\n",
       "      <td>MOHAVE</td>\n",
       "      <td>NaN</td>\n",
       "      <td>2959.0</td>\n",
       "      <td>Automatic Transmission</td>\n",
       "      <td>diesel</td>\n",
       "      <td>LHD</td>\n",
       "      <td>4WD</td>\n",
       "      <td>7 Seats</td>\n",
       "      <td>4 Doors</td>\n",
       "      <td>...</td>\n",
       "      <td>1</td>\n",
       "      <td>0</td>\n",
       "      <td>1</td>\n",
       "      <td>0</td>\n",
       "      <td>0</td>\n",
       "      <td>1</td>\n",
       "      <td>1</td>\n",
       "      <td>2022.0</td>\n",
       "      <td>6545952.0</td>\n",
       "      <td>6545952.0</td>\n",
       "    </tr>\n",
       "    <tr>\n",
       "      <th>3</th>\n",
       "      <td>BMW</td>\n",
       "      <td>i3</td>\n",
       "      <td>51000.0</td>\n",
       "      <td>900.0</td>\n",
       "      <td>Automatic Transmission</td>\n",
       "      <td>Hybird</td>\n",
       "      <td>RHD</td>\n",
       "      <td>Other</td>\n",
       "      <td>4 Seats</td>\n",
       "      <td>5 Doors</td>\n",
       "      <td>...</td>\n",
       "      <td>1</td>\n",
       "      <td>0</td>\n",
       "      <td>1</td>\n",
       "      <td>0</td>\n",
       "      <td>0</td>\n",
       "      <td>1</td>\n",
       "      <td>1</td>\n",
       "      <td>2016.0</td>\n",
       "      <td>2360003.0</td>\n",
       "      <td>2360003.0</td>\n",
       "    </tr>\n",
       "    <tr>\n",
       "      <th>4</th>\n",
       "      <td>GENESIS</td>\n",
       "      <td>G80</td>\n",
       "      <td>120000.0</td>\n",
       "      <td>2497.0</td>\n",
       "      <td>Automatic Transmission</td>\n",
       "      <td>PETROL</td>\n",
       "      <td>LHD</td>\n",
       "      <td>4WD</td>\n",
       "      <td>5 Seats</td>\n",
       "      <td>4 Doors</td>\n",
       "      <td>...</td>\n",
       "      <td>1</td>\n",
       "      <td>0</td>\n",
       "      <td>1</td>\n",
       "      <td>0</td>\n",
       "      <td>0</td>\n",
       "      <td>1</td>\n",
       "      <td>1</td>\n",
       "      <td>2020.0</td>\n",
       "      <td>5564201.0</td>\n",
       "      <td>5564201.0</td>\n",
       "    </tr>\n",
       "  </tbody>\n",
       "</table>\n",
       "<p>5 rows × 22 columns</p>\n",
       "</div>"
      ],
      "text/plain": [
       "       car_brand car_model  mileage_km  engine_size_cc  \\\n",
       "0  ObscureBrandB  TT COUPE     56000.0          2000.0   \n",
       "1  ObscureBrandA      GOLF     48000.0          1200.0   \n",
       "2            KIA    MOHAVE         NaN          2959.0   \n",
       "3            BMW        i3     51000.0           900.0   \n",
       "4        GENESIS       G80    120000.0          2497.0   \n",
       "\n",
       "             transmission fuel_type steering_type drive_train no_of_seats  \\\n",
       "0  Automatic Transmission    petrol           RHD         4WD     4 Seats   \n",
       "1  Automatic Transmission    PETROL           RHD       Other     5 Seats   \n",
       "2  Automatic Transmission    diesel           LHD         4WD     7 Seats   \n",
       "3  Automatic Transmission    Hybird           RHD       Other     4 Seats   \n",
       "4  Automatic Transmission    PETROL           LHD         4WD     5 Seats   \n",
       "\n",
       "  no_of_doors  ... Air Conditioner  Navigation  Air Bag  \\\n",
       "0     3 Doors  ...               1           0        1   \n",
       "1     5 Doors  ...               1           0        1   \n",
       "2     4 Doors  ...               1           0        1   \n",
       "3     5 Doors  ...               1           0        1   \n",
       "4     4 Doors  ...               1           0        1   \n",
       "\n",
       "   Anti-Lock Brake System  Fog Lights  Power Windows  Alloy Wheels    year  \\\n",
       "0                       0           0              1             1  2015.0   \n",
       "1                       0           0              1             1  2018.0   \n",
       "2                       0           0              1             1  2022.0   \n",
       "3                       0           0              1             1  2016.0   \n",
       "4                       0           0              1             1  2020.0   \n",
       "\n",
       "   price(Ksh)  redundant_price_column  \n",
       "0   3407249.0               3407249.0  \n",
       "1   2390153.0               2390153.0  \n",
       "2   6545952.0               6545952.0  \n",
       "3   2360003.0               2360003.0  \n",
       "4   5564201.0               5564201.0  \n",
       "\n",
       "[5 rows x 22 columns]"
      ]
     },
     "execution_count": 1,
     "metadata": {},
     "output_type": "execute_result"
    }
   ],
   "source": [
    "import pandas as pd\n",
    "import numpy as np\n",
    "import seaborn as sns\n",
    "import matplotlib.pyplot as plt\n",
    "\n",
    "# Load the dirty dataset\n",
    "df = pd.read_csv(\"dirty_sbt_japan_expanded.csv\")\n",
    "\n",
    "df.head()\n"
   ]
  },
  {
   "cell_type": "code",
   "execution_count": 2,
   "id": "94053700",
   "metadata": {},
   "outputs": [
    {
     "name": "stdout",
     "output_type": "stream",
     "text": [
      "Number of duplicates: 76\n"
     ]
    }
   ],
   "source": [
    "# Check for exact duplicates\n",
    "print(f\"Number of duplicates: {df.duplicated().sum()}\")\n",
    "\n",
    "# Drop duplicates\n",
    "df = df.drop_duplicates()\n"
   ]
  },
  {
   "cell_type": "code",
   "execution_count": 3,
   "id": "78e408ef",
   "metadata": {},
   "outputs": [
    {
     "data": {
      "text/plain": [
       "car_brand                   0\n",
       "car_model                   0\n",
       "mileage_km                368\n",
       "engine_size_cc              0\n",
       "transmission                0\n",
       "fuel_type                   0\n",
       "steering_type               0\n",
       "drive_train                 0\n",
       "no_of_seats                 0\n",
       "no_of_doors                 0\n",
       "body_type                   0\n",
       "Power Steering              0\n",
       "Air Conditioner             0\n",
       "Navigation                  0\n",
       "Air Bag                     0\n",
       "Anti-Lock Brake System      0\n",
       "Fog Lights                  0\n",
       "Power Windows               0\n",
       "Alloy Wheels                0\n",
       "year                      388\n",
       "price(Ksh)                375\n",
       "redundant_price_column      0\n",
       "dtype: int64"
      ]
     },
     "execution_count": 3,
     "metadata": {},
     "output_type": "execute_result"
    }
   ],
   "source": [
    "# View missing values per column\n",
    "df.isnull().sum()\n",
    "\n"
   ]
  },
  {
   "cell_type": "code",
   "execution_count": 4,
   "id": "b8f4e1da",
   "metadata": {},
   "outputs": [],
   "source": [
    "# Drop rows with missing \n",
    "df = df.dropna(subset=['price(Ksh)', 'year'])\n",
    "\n",
    "# Fill other missing values with mode\n",
    "df['mileage_km'] = df['mileage_km'].fillna(df['mileage_km'].mode()[0])"
   ]
  },
  {
   "cell_type": "code",
   "execution_count": 5,
   "id": "350f8f78",
   "metadata": {},
   "outputs": [
    {
     "data": {
      "text/plain": [
       "(38113, 22)"
      ]
     },
     "execution_count": 5,
     "metadata": {},
     "output_type": "execute_result"
    }
   ],
   "source": [
    "df.shape"
   ]
  },
  {
   "cell_type": "code",
   "execution_count": 6,
   "id": "27e6c80d",
   "metadata": {},
   "outputs": [
    {
     "data": {
      "text/plain": [
       "car_brand                 0\n",
       "car_model                 0\n",
       "mileage_km                0\n",
       "engine_size_cc            0\n",
       "transmission              0\n",
       "fuel_type                 0\n",
       "steering_type             0\n",
       "drive_train               0\n",
       "no_of_seats               0\n",
       "no_of_doors               0\n",
       "body_type                 0\n",
       "Power Steering            0\n",
       "Air Conditioner           0\n",
       "Navigation                0\n",
       "Air Bag                   0\n",
       "Anti-Lock Brake System    0\n",
       "Fog Lights                0\n",
       "Power Windows             0\n",
       "Alloy Wheels              0\n",
       "year                      0\n",
       "price(Ksh)                0\n",
       "redundant_price_column    0\n",
       "dtype: int64"
      ]
     },
     "execution_count": 6,
     "metadata": {},
     "output_type": "execute_result"
    }
   ],
   "source": [
    "df.isnull().sum()"
   ]
  },
  {
   "cell_type": "code",
   "execution_count": 7,
   "id": "842098a8",
   "metadata": {},
   "outputs": [
    {
     "name": "stdout",
     "output_type": "stream",
     "text": [
      "['Petrol', 'Diesel', 'Hybrid', 'Electric/Other']\n",
      "Categories (4, object): ['Petrol', 'Diesel', 'Hybrid', 'Electric/Other']\n"
     ]
    }
   ],
   "source": [
    "# Standardize fuel type values\n",
    "import pandas as pd\n",
    "\n",
    "# Load dataset\n",
    "df = pd.read_csv(\"dirty_sbt_japan_expanded.csv\")\n",
    "\n",
    "# Define mapping for known misspellings and inconsistent cases\n",
    "fuel_type_corrections = {\n",
    "    \"Hybird\": \"Hybrid\",\n",
    "    \"hybrid\": \"Hybrid\",\n",
    "    \"Hybrid\": \"Hybrid\",\n",
    "    \"PETROL\": \"Petrol\",\n",
    "    \"petrol\": \"Petrol\",\n",
    "    \"Petol\": \"Petrol\",\n",
    "    \"diesel\": \"Diesel\",\n",
    "    \"Diesel\": \"Diesel\",\n",
    "    \"diesal\": \"Diesel\",\n",
    "    \"Electric/Other\": \"Electric/Other\"  # unchanged\n",
    "}\n",
    "\n",
    "# Apply mapping with replacement\n",
    "df[\"fuel_type\"] = df[\"fuel_type\"].replace(fuel_type_corrections)\n",
    "\n",
    "# Optional: enforce categorical ordering for consistency\n",
    "df[\"fuel_type\"] = pd.Categorical(\n",
    "    df[\"fuel_type\"],\n",
    "    categories=[\"Petrol\", \"Diesel\", \"Hybrid\", \"Electric/Other\"],\n",
    "    ordered=False\n",
    ")\n",
    "\n",
    "# Verify result\n",
    "print(df[\"fuel_type\"].unique())\n"
   ]
  },
  {
   "cell_type": "code",
   "execution_count": 8,
   "id": "89488129",
   "metadata": {},
   "outputs": [
    {
     "name": "stdout",
     "output_type": "stream",
     "text": [
      "['KIA' 'BMW' 'GENESIS' 'MERCEDES' 'TOYOTA']\n",
      "Remaining rows: 22107\n"
     ]
    }
   ],
   "source": [
    "obsecure_brands = [\"ObscureBrandA\", \"ObscureBrandB\", \"ObscureBrandC\"]\n",
    "\n",
    "# Drop rows with these obsecure brands\n",
    "df = df[~df[\"car_brand\"].isin(obsecure_brands)].copy()\n",
    "\n",
    "df.reset_index(drop=True, inplace=True)\n",
    "\n",
    "print(df[\"car_brand\"].unique())\n",
    "print(f\"Remaining rows: {len(df)}\")\n"
   ]
  },
  {
   "cell_type": "code",
   "execution_count": 9,
   "id": "cf9d46a5",
   "metadata": {},
   "outputs": [
    {
     "data": {
      "text/plain": [
       "(22107, 22)"
      ]
     },
     "execution_count": 9,
     "metadata": {},
     "output_type": "execute_result"
    }
   ],
   "source": [
    "df.shape"
   ]
  },
  {
   "cell_type": "code",
   "execution_count": 10,
   "id": "280f0b44",
   "metadata": {},
   "outputs": [],
   "source": [
    "# Standardize transmission types\n",
    "df['transmission'] = df['transmission'].str.lower().replace({\n",
    "    'automatc': 'automatic',\n",
    "    'manual.': 'manual'\n",
    "})\n"
   ]
  },
  {
   "cell_type": "code",
   "execution_count": 11,
   "id": "5aae9cc7",
   "metadata": {},
   "outputs": [
    {
     "data": {
      "text/plain": [
       "(22107, 22)"
      ]
     },
     "execution_count": 11,
     "metadata": {},
     "output_type": "execute_result"
    }
   ],
   "source": [
    "df.shape"
   ]
  },
  {
   "cell_type": "code",
   "execution_count": 12,
   "id": "a1c02e5c",
   "metadata": {},
   "outputs": [],
   "source": [
    "# Drop irrelevant/redundant columns\n",
    "columns_to_drop = ['Unnamed: 0', 'car_url', 'image_url', 'location']\n",
    "df = df.drop(columns=[col for col in columns_to_drop if col in df.columns])\n"
   ]
  },
  {
   "cell_type": "code",
   "execution_count": 13,
   "id": "27555d0d",
   "metadata": {},
   "outputs": [
    {
     "data": {
      "text/plain": [
       "(22107, 22)"
      ]
     },
     "execution_count": 13,
     "metadata": {},
     "output_type": "execute_result"
    }
   ],
   "source": [
    "df.shape"
   ]
  },
  {
   "cell_type": "code",
   "execution_count": 14,
   "id": "588e9a74",
   "metadata": {},
   "outputs": [],
   "source": [
    "# Group rare car brands into 'Other'\n",
    "brand_counts = df['car_brand'].value_counts()\n",
    "rare_brands = brand_counts[brand_counts < 50].index\n",
    "df['car_brand'] = df['car_brand'].replace(rare_brands, 'Other')\n"
   ]
  },
  {
   "cell_type": "code",
   "execution_count": 15,
   "id": "ad94bf99",
   "metadata": {},
   "outputs": [
    {
     "data": {
      "text/plain": [
       "(22107, 22)"
      ]
     },
     "execution_count": 15,
     "metadata": {},
     "output_type": "execute_result"
    }
   ],
   "source": [
    "df.shape"
   ]
  },
  {
   "cell_type": "code",
   "execution_count": 16,
   "id": "6633c469",
   "metadata": {},
   "outputs": [],
   "source": [
    "# Define upper and lower bounds for price, mileage, engine_size_cc\n",
    "df = df[df['price(Ksh)'].between(500000, 15000000)]\n",
    "df = df[df['mileage_km'].between(1000, 150000)]\n",
    "df = df[df['engine_size_cc'].between(900, 5000)]"
   ]
  },
  {
   "cell_type": "code",
   "execution_count": 17,
   "id": "0722e36a",
   "metadata": {},
   "outputs": [
    {
     "data": {
      "text/plain": [
       "(20981, 22)"
      ]
     },
     "execution_count": 17,
     "metadata": {},
     "output_type": "execute_result"
    }
   ],
   "source": [
    "df.shape"
   ]
  },
  {
   "cell_type": "code",
   "execution_count": 18,
   "id": "01cd1fb2",
   "metadata": {},
   "outputs": [],
   "source": [
    "# Create car_age feature\n",
    "df['car_age'] = 2025 - df['year']\n",
    "\n",
    "# Create mileage category\n",
    "df['mileage_category'] = pd.cut(\n",
    "    df['mileage_km'],\n",
    "    bins=[0, 50000, 100000, 150000, 200000, np.inf],\n",
    "    labels=['Very Low', 'Low', 'Moderate', 'High', 'Very High']\n",
    ")\n"
   ]
  },
  {
   "cell_type": "code",
   "execution_count": 19,
   "id": "c3c6d1b1",
   "metadata": {},
   "outputs": [
    {
     "data": {
      "text/html": [
       "<div>\n",
       "<style scoped>\n",
       "    .dataframe tbody tr th:only-of-type {\n",
       "        vertical-align: middle;\n",
       "    }\n",
       "\n",
       "    .dataframe tbody tr th {\n",
       "        vertical-align: top;\n",
       "    }\n",
       "\n",
       "    .dataframe thead th {\n",
       "        text-align: right;\n",
       "    }\n",
       "</style>\n",
       "<table border=\"1\" class=\"dataframe\">\n",
       "  <thead>\n",
       "    <tr style=\"text-align: right;\">\n",
       "      <th></th>\n",
       "      <th>car_brand</th>\n",
       "      <th>car_model</th>\n",
       "      <th>mileage_km</th>\n",
       "      <th>engine_size_cc</th>\n",
       "      <th>transmission</th>\n",
       "      <th>fuel_type</th>\n",
       "      <th>steering_type</th>\n",
       "      <th>drive_train</th>\n",
       "      <th>no_of_seats</th>\n",
       "      <th>no_of_doors</th>\n",
       "      <th>...</th>\n",
       "      <th>Air Bag</th>\n",
       "      <th>Anti-Lock Brake System</th>\n",
       "      <th>Fog Lights</th>\n",
       "      <th>Power Windows</th>\n",
       "      <th>Alloy Wheels</th>\n",
       "      <th>year</th>\n",
       "      <th>price(Ksh)</th>\n",
       "      <th>redundant_price_column</th>\n",
       "      <th>car_age</th>\n",
       "      <th>mileage_category</th>\n",
       "    </tr>\n",
       "  </thead>\n",
       "  <tbody>\n",
       "    <tr>\n",
       "      <th>1</th>\n",
       "      <td>BMW</td>\n",
       "      <td>i3</td>\n",
       "      <td>51000.0</td>\n",
       "      <td>900.0</td>\n",
       "      <td>automatic transmission</td>\n",
       "      <td>Hybrid</td>\n",
       "      <td>RHD</td>\n",
       "      <td>Other</td>\n",
       "      <td>4 Seats</td>\n",
       "      <td>5 Doors</td>\n",
       "      <td>...</td>\n",
       "      <td>1</td>\n",
       "      <td>0</td>\n",
       "      <td>0</td>\n",
       "      <td>1</td>\n",
       "      <td>1</td>\n",
       "      <td>2016.0</td>\n",
       "      <td>2360003.0</td>\n",
       "      <td>2360003.0</td>\n",
       "      <td>9.0</td>\n",
       "      <td>Low</td>\n",
       "    </tr>\n",
       "    <tr>\n",
       "      <th>2</th>\n",
       "      <td>GENESIS</td>\n",
       "      <td>G80</td>\n",
       "      <td>120000.0</td>\n",
       "      <td>2497.0</td>\n",
       "      <td>automatic transmission</td>\n",
       "      <td>Petrol</td>\n",
       "      <td>LHD</td>\n",
       "      <td>4WD</td>\n",
       "      <td>5 Seats</td>\n",
       "      <td>4 Doors</td>\n",
       "      <td>...</td>\n",
       "      <td>1</td>\n",
       "      <td>0</td>\n",
       "      <td>0</td>\n",
       "      <td>1</td>\n",
       "      <td>1</td>\n",
       "      <td>2020.0</td>\n",
       "      <td>5564201.0</td>\n",
       "      <td>5564201.0</td>\n",
       "      <td>5.0</td>\n",
       "      <td>Moderate</td>\n",
       "    </tr>\n",
       "    <tr>\n",
       "      <th>3</th>\n",
       "      <td>MERCEDES</td>\n",
       "      <td>E CLASS</td>\n",
       "      <td>41000.0</td>\n",
       "      <td>1991.0</td>\n",
       "      <td>automatic transmission</td>\n",
       "      <td>Petrol</td>\n",
       "      <td>LHD</td>\n",
       "      <td>Other</td>\n",
       "      <td>5 Seats</td>\n",
       "      <td>4 Doors</td>\n",
       "      <td>...</td>\n",
       "      <td>1</td>\n",
       "      <td>0</td>\n",
       "      <td>0</td>\n",
       "      <td>1</td>\n",
       "      <td>1</td>\n",
       "      <td>2019.0</td>\n",
       "      <td>4562663.0</td>\n",
       "      <td>4562663.0</td>\n",
       "      <td>6.0</td>\n",
       "      <td>Very Low</td>\n",
       "    </tr>\n",
       "    <tr>\n",
       "      <th>4</th>\n",
       "      <td>BMW</td>\n",
       "      <td>1 SERIES</td>\n",
       "      <td>27000.0</td>\n",
       "      <td>1998.0</td>\n",
       "      <td>automatic transmission</td>\n",
       "      <td>Petrol</td>\n",
       "      <td>LHD</td>\n",
       "      <td>4WD</td>\n",
       "      <td>5 Seats</td>\n",
       "      <td>4 Doors</td>\n",
       "      <td>...</td>\n",
       "      <td>1</td>\n",
       "      <td>0</td>\n",
       "      <td>0</td>\n",
       "      <td>1</td>\n",
       "      <td>1</td>\n",
       "      <td>2021.0</td>\n",
       "      <td>5111169.0</td>\n",
       "      <td>5111169.0</td>\n",
       "      <td>4.0</td>\n",
       "      <td>Very Low</td>\n",
       "    </tr>\n",
       "    <tr>\n",
       "      <th>5</th>\n",
       "      <td>TOYOTA</td>\n",
       "      <td>PRIUS</td>\n",
       "      <td>52000.0</td>\n",
       "      <td>1800.0</td>\n",
       "      <td>automatic transmission</td>\n",
       "      <td>Hybrid</td>\n",
       "      <td>RHD</td>\n",
       "      <td>2WD</td>\n",
       "      <td>5 Seats</td>\n",
       "      <td>5 Doors</td>\n",
       "      <td>...</td>\n",
       "      <td>1</td>\n",
       "      <td>0</td>\n",
       "      <td>0</td>\n",
       "      <td>0</td>\n",
       "      <td>0</td>\n",
       "      <td>2016.0</td>\n",
       "      <td>2317134.0</td>\n",
       "      <td>2317134.0</td>\n",
       "      <td>9.0</td>\n",
       "      <td>Low</td>\n",
       "    </tr>\n",
       "  </tbody>\n",
       "</table>\n",
       "<p>5 rows × 24 columns</p>\n",
       "</div>"
      ],
      "text/plain": [
       "  car_brand car_model  mileage_km  engine_size_cc            transmission  \\\n",
       "1       BMW        i3     51000.0           900.0  automatic transmission   \n",
       "2   GENESIS       G80    120000.0          2497.0  automatic transmission   \n",
       "3  MERCEDES   E CLASS     41000.0          1991.0  automatic transmission   \n",
       "4       BMW  1 SERIES     27000.0          1998.0  automatic transmission   \n",
       "5    TOYOTA     PRIUS     52000.0          1800.0  automatic transmission   \n",
       "\n",
       "  fuel_type steering_type drive_train no_of_seats no_of_doors  ... Air Bag  \\\n",
       "1    Hybrid           RHD       Other     4 Seats     5 Doors  ...       1   \n",
       "2    Petrol           LHD         4WD     5 Seats     4 Doors  ...       1   \n",
       "3    Petrol           LHD       Other     5 Seats     4 Doors  ...       1   \n",
       "4    Petrol           LHD         4WD     5 Seats     4 Doors  ...       1   \n",
       "5    Hybrid           RHD         2WD     5 Seats     5 Doors  ...       1   \n",
       "\n",
       "   Anti-Lock Brake System  Fog Lights  Power Windows  Alloy Wheels    year  \\\n",
       "1                       0           0              1             1  2016.0   \n",
       "2                       0           0              1             1  2020.0   \n",
       "3                       0           0              1             1  2019.0   \n",
       "4                       0           0              1             1  2021.0   \n",
       "5                       0           0              0             0  2016.0   \n",
       "\n",
       "   price(Ksh)  redundant_price_column  car_age  mileage_category  \n",
       "1   2360003.0               2360003.0      9.0               Low  \n",
       "2   5564201.0               5564201.0      5.0          Moderate  \n",
       "3   4562663.0               4562663.0      6.0          Very Low  \n",
       "4   5111169.0               5111169.0      4.0          Very Low  \n",
       "5   2317134.0               2317134.0      9.0               Low  \n",
       "\n",
       "[5 rows x 24 columns]"
      ]
     },
     "execution_count": 19,
     "metadata": {},
     "output_type": "execute_result"
    }
   ],
   "source": [
    "# Final check on cleaned dataset\n",
    "df.head()"
   ]
  },
  {
   "cell_type": "code",
   "execution_count": 20,
   "id": "498ca277",
   "metadata": {},
   "outputs": [
    {
     "data": {
      "text/plain": [
       "(20981, 24)"
      ]
     },
     "execution_count": 20,
     "metadata": {},
     "output_type": "execute_result"
    }
   ],
   "source": [
    "df.shape"
   ]
  },
  {
   "cell_type": "code",
   "execution_count": 21,
   "id": "54d9628d",
   "metadata": {},
   "outputs": [],
   "source": [
    "# Save the cleaned dataset\n",
    "df.to_csv(\"clean_dataset.csv\", index=False)"
   ]
  },
  {
   "cell_type": "code",
   "execution_count": null,
   "id": "cef10b73",
   "metadata": {},
   "outputs": [],
   "source": []
  }
 ],
 "metadata": {
  "kernelspec": {
   "display_name": "Python 3 (ipykernel)",
   "language": "python",
   "name": "python3"
  },
  "language_info": {
   "codemirror_mode": {
    "name": "ipython",
    "version": 3
   },
   "file_extension": ".py",
   "mimetype": "text/x-python",
   "name": "python",
   "nbconvert_exporter": "python",
   "pygments_lexer": "ipython3",
   "version": "3.10.9"
  }
 },
 "nbformat": 4,
 "nbformat_minor": 5
}
