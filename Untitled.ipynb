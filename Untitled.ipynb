{
 "cells": [
  {
   "cell_type": "code",
   "execution_count": 1,
   "id": "6d6c7907",
   "metadata": {},
   "outputs": [
    {
     "ename": "SyntaxError",
     "evalue": "incomplete input (906971288.py, line 39)",
     "output_type": "error",
     "traceback": [
      "\u001b[1;36m  Cell \u001b[1;32mIn[1], line 39\u001b[1;36m\u001b[0m\n\u001b[1;33m    \"year\":       \".//span[contains(@class,'reg_year')]\",\u001b[0m\n\u001b[1;37m                                                         ^\u001b[0m\n\u001b[1;31mSyntaxError\u001b[0m\u001b[1;31m:\u001b[0m incomplete input\n"
     ]
    }
   ],
   "source": [
    "\"\"\"sbtjapan_scraper.py\n",
    "\n",
    "Scrape listing data from SBT Japan search results and export to CSV.\n",
    "Requirements:\n",
    "    - Python 3.8+\n",
    "    - selenium >= 4.0\n",
    "    - pandas\n",
    "    - undetected-chromedriver (optional, but helps to bypass bot detection)\n",
    "\n",
    "Usage:\n",
    "    python sbtjapan_scraper.py --url \"https://www.sbtjapan.com/used-cars/search?is_new_available=1&is_new_arrival=1&country=26&port=52&shipment=1&currency=usd&freight=0&inspection=yes&insurance=yes&show_numbers=50\" \\\n",
    "                               --output new_arrivals_kenya.csv\n",
    "\"\"\"\n",
    "\n",
    "import argparse\n",
    "import time\n",
    "import pandas as pd\n",
    "from selenium.webdriver.common.by import By\n",
    "from selenium.webdriver.support.ui import WebDriverWait\n",
    "from selenium.webdriver.support import expected_conditions as EC\n",
    "\n",
    "# Try undetected‑chromedriver first, fallback to normal Chrome if it's not available\n",
    "try:\n",
    "    import undetected_chromedriver as uc\n",
    "    def get_driver():\n",
    "        return uc.Chrome(headless=True)\n",
    "except ImportError:\n",
    "    from selenium import webdriver\n",
    "    from selenium.webdriver.chrome.options import Options\n",
    "    def get_driver():\n",
    "        opts = Options()\n",
    "        opts.add_argument(\"--headless=new\")\n",
    "        opts.add_argument(\"--disable-gpu\")\n",
    "        opts.add_argument(\"--window-size=1920,1080\")\n",
    "        return webdriver.Chrome(options=opts)\n",
    "\n",
    "FIELD_MAP = {\n",
    "    \"stock_id\":   \".//div[contains(@class,'stock_no')]\",\n",
    "    \"year\":       \".//span[contains(@class,'reg_year')]\",\n"
   ]
  },
  {
   "cell_type": "code",
   "execution_count": null,
   "id": "e401f98f",
   "metadata": {},
   "outputs": [],
   "source": []
  }
 ],
 "metadata": {
  "kernelspec": {
   "display_name": "Python 3 (ipykernel)",
   "language": "python",
   "name": "python3"
  },
  "language_info": {
   "codemirror_mode": {
    "name": "ipython",
    "version": 3
   },
   "file_extension": ".py",
   "mimetype": "text/x-python",
   "name": "python",
   "nbconvert_exporter": "python",
   "pygments_lexer": "ipython3",
   "version": "3.11.5"
  }
 },
 "nbformat": 4,
 "nbformat_minor": 5
}
